{
 "cells": [
  {
   "attachments": {
    "jmc_logo.png": {
     "image/png": "[encoded data removed]"
    }
   },
   "cell_type": "markdown",
   "metadata": {
    "slideshow": {
     "slide_type": "slide"
    }
   },
   "source": [
    "# JM College Trichy \n",
    "![jmc_logo.png](attachment:jmc_logo.png)\n",
    "\n",
    "Department of Physics <br>\n",
    "Tiruchirappali "
   ]
  },
  {
   "cell_type": "markdown",
   "metadata": {
    "slideshow": {
     "slide_type": "slide"
    }
   },
   "source": [
    "## Outline of my talk \n",
    "### outline 2 \n",
    "#### test\n",
    "1. First point\n",
    "    - second point \n",
    "    - First point\n",
    "    - second point \n",
    "2.  First point\n",
    "    - second point "
   ]
  },
  {
   "cell_type": "markdown",
   "metadata": {
    "slideshow": {
     "slide_type": "slide"
    }
   },
   "source": [
    "## How to create a table\n",
    "\n",
    "| Name| R. No| Mark|\n",
    "|-----|------|-----|\n",
    "|JMC |001|95|\n",
    "|BDU|022|88|\n",
    "|BDU|$\\pi$|88|\n",
    "|BDU|022|88|\n",
    "\n"
   ]
  },
  {
   "cell_type": "markdown",
   "metadata": {
    "slideshow": {
     "slide_type": "slide"
    }
   },
   "source": [
    "# Mathematical Equations\n",
    "\n",
    "$\\ddot{x}=-k x$ <br>\n",
    "This is a example of equation. <br>\n",
    "$ \\frac{d^2x}{dt^2}= sin(\\omega t) $\n",
    "\n"
   ]
  },
  {
   "cell_type": "markdown",
   "metadata": {
    "slideshow": {
     "slide_type": "subslide"
    }
   },
   "source": [
    "\n",
    "$\\ddot{x}=-k x$ <br>\n",
    "This is a example of equation. <br>\n",
    "$ \\frac{d^2x}{dt^2}= sin(\\omega t) $\n",
    "\n"
   ]
  },
  {
   "cell_type": "code",
   "execution_count": null,
   "metadata": {},
   "outputs": [],
   "source": []
  }
 ],
 "metadata": {
  "@webio": {
   "lastCommId": null,
   "lastKernelId": null
  },
  "celltoolbar": "Slideshow",
  "kernelspec": {
   "display_name": "Python 3",
   "language": "python",
   "name": "python3"
  },
  "language_info": {
   "codemirror_mode": {
    "name": "ipython",
    "version": 3
   },
   "file_extension": ".py",
   "mimetype": "text/x-python",
   "name": "python",
   "nbconvert_exporter": "python",
   "pygments_lexer": "ipython3",
   "version": "3.8.2"
  }
 },
 "nbformat": 4,
 "nbformat_minor": 4
}
