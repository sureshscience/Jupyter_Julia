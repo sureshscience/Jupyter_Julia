{
 "cells": [
  {
   "attachments": {
    "jupyter.png": {
     "image/png": "[encoded data removed]"
    }
   },
   "cell_type": "markdown",
   "metadata": {
    "slideshow": {
     "slide_type": "slide"
    }
   },
   "source": [
    "<h1 align=\"center\">  Interactive Teaching and Scientific Computing with Jupyter notebook and Julia</h1> \n",
    "\n",
    "![jupyter.png](attachment:jupyter.png)\n"
   ]
  },
  {
   "cell_type": "markdown",
   "metadata": {},
   "source": [
    "# Why Jupyter Notebook"
   ]
  },
  {
   "cell_type": "markdown",
   "metadata": {},
   "source": [
    "- Jupyter Notebook is an open source web interface that enables to include text, video, audio, images, along with the possibility to execute code from different programming languages. \n",
    "<img src=\"open-source-software.png\" alt=\"Drawing\" style=\"width: 400px;\"/>\n",
    "- Being an open source project, it has kernels for Octave, Julia, R, Haskell, Ruby, C/C++, Fortran, Java, SageMath, Scala, Matlab and Mathematica.\n",
    "<img src=\"pl.jpg\" alt=\"Drawing\" style=\"width: 400px;\"/>\n",
    "- Thus, this interface can mark a milestone in the standardization of ways to deliver scientific content, without being circumscribed to a single language. \n",
    "<hr>"
   ]
  },
  {
   "cell_type": "markdown",
   "metadata": {
    "slideshow": {
     "slide_type": "notes"
    }
   },
   "source": [
    "\n",
    "- Name Jupyter is a combination of **Ju-lia, Py-thon and R**.\n",
    "\n",
    "- The versatility of the Jupyter has allowed to spread its use into both educational and research environments. \n",
    "\n",
    "- It is becoming more and more common to include Jupyter Notebooks with calculations, data and additional figures to scientific papers. \n",
    "<hr>"
   ]
  },
  {
   "cell_type": "markdown",
   "metadata": {},
   "source": [
    "## Where you can use Jupyter notebook [1]\n",
    "\n",
    "1. Sciences\n",
    "    - Physics and astronomy\n",
    "    - Geoscience\n",
    "    - Biology\n",
    "    - Cognitive Science\n",
    "    - Computer science\n",
    "    - Data science\n",
    "    - Statistics\n",
    "    - Social sciences\n",
    "2. Writing\n",
    "   - Writing Seminar\n",
    "   - Writing and technical communication\n",
    "3. Digital Humanities\n",
    "   - Music\n",
    "   - Text analysis\n",
    "   - Metadata processing\n",
    "4. Engineering\n",
    "   - Chemical engineering (kinetics and reactor design)\n",
    "   - Mechanical engineering\n",
    "   - Aerospace engineering\n",
    "5. Introduction to Programming\n",
    "   - High school\n",
    "   - College and university-level courses (true introductions through advanced courses)\n",
    "6. Our other use of notebooks for education include:\n",
    "   - Building models/simulations (with and without programming)\n",
    "   - Using widgets to demonstrate and interact with simulations\n",
    "   - Visualizations of process and data\n",
    "   \n",
    "[1]: https: //jupyter4edu.github.io/jupyter-edu-book/why-we-use-jupyter-notebooks.html\n",
    "\n",
    "<hr>"
   ]
  },
  {
   "cell_type": "markdown",
   "metadata": {},
   "source": [
    "## How to Install Jupyter Notebook Linux"
   ]
  },
  {
   "cell_type": "markdown",
   "metadata": {},
   "source": [
    "#### JupyterLab can be installed using **conda, pip, pipenv or docker** <br>\n",
    "### conda <br>\n",
    "    \n",
    "If you use conda, you can install it with: <br>\n",
    "\n",
    "> conda install -c conda-forge jupyterlab\n",
    "\n",
    "\n",
    "### pip <br>\n",
    "If you use pip, you can install it with:\n",
    "\n",
    "> pip install jupyterlab"
   ]
  },
  {
   "cell_type": "markdown",
   "metadata": {},
   "source": [
    "### Supported browsers  <br>\n",
    "The latest versions of the following browsers are currently known to work:<br>\n",
    "\n",
    "- Firefox\n",
    "- Chrome\n",
    "- Safari"
   ]
  },
  {
   "cell_type": "markdown",
   "metadata": {},
   "source": [
    "## Install  Jupyter Notebook to Windows 10\n",
    "\n",
    "\n",
    "[Windows link](https://medium.com/@kswalawage/install-python-and-jupyter-notebook-to-windows-10-64-bit-66db782e1d02)\n",
    "\n",
    "\n",
    "[Online_Jupyter](https://jupyter.org/try)"
   ]
  },
  {
   "cell_type": "markdown",
   "metadata": {},
   "source": [
    "# We will see "
   ]
  },
  {
   "cell_type": "markdown",
   "metadata": {},
   "source": [
    "- Prepare a presentation \n",
    "- Convert it into a study material/ reference material\n",
    "- Interactive learning of Simple Harmonic Oscillator\n",
    "- Analysis of COVID-19 cases of India \n",
    "- SIR models in epidemiology"
   ]
  }
 ],
 "metadata": {
  "@webio": {
   "lastCommId": null,
   "lastKernelId": null
  },
  "kernelspec": {
   "display_name": "Julia 1.4.1",
   "language": "julia",
   "name": "julia-1.4"
  },
  "language_info": {
   "file_extension": ".jl",
   "mimetype": "application/julia",
   "name": "julia",
   "version": "1.4.1"
  }
 },
 "nbformat": 4,
 "nbformat_minor": 4
}
